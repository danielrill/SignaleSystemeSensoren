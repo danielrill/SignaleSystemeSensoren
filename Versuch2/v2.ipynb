{
 "cells": [
  {
   "cell_type": "code",
   "execution_count": 1,
   "metadata": {},
   "outputs": [],
   "source": [
    "import cv2 as cv\n",
    "import numpy as np\n"
   ]
  },
  {
   "cell_type": "code",
   "execution_count": 18,
   "metadata": {},
   "outputs": [
    {
     "data": {
      "text/plain": [
       "True"
      ]
     },
     "execution_count": 18,
     "metadata": {},
     "output_type": "execute_result"
    }
   ],
   "source": [
    "\n",
    "gray_img = np.array(cv.imread('OpencvGrauwertKeil.png'))\n",
    "gray_img = gray_img.astype('float32')\n",
    "\n",
    "white_contents = gray_img[50:430, 5:25]\n",
    "gray_contents = gray_img[50:430, 150:170]\n",
    "gray_contents2 = gray_img[50:430, 300:320]\n",
    "gray_contents3 = gray_img[50:430, 400:420]\n",
    "black_contents = gray_img[50:430, 600:620]\n",
    "\n",
    "\n",
    "sub_image_lst = [white_contents, gray_contents,\n",
    "                 gray_contents2, gray_contents3, black_contents]\n",
    "\n",
    "\n",
    "cv.imwrite(\".//whitecontents.png\", white_contents.astype('uint8'))\n",
    "cv.imwrite(\".//gray_contents.png\", gray_contents.astype('uint8'))\n",
    "cv.imwrite(\".//gray_contents2.png\", gray_contents2.astype('uint8'))\n",
    "cv.imwrite(\".//gray_contents3.png\", gray_contents3.astype('uint8'))\n",
    "cv.imwrite(\".//black_contents.png\", black_contents.astype('uint8'))\n",
    "\n",
    "\n",
    "\n"
   ]
  },
  {
   "cell_type": "code",
   "execution_count": 19,
   "metadata": {},
   "outputs": [
    {
     "data": {
      "text/plain": [
       "True"
      ]
     },
     "execution_count": 19,
     "metadata": {},
     "output_type": "execute_result"
    }
   ],
   "source": [
    "# concat pics horizontally\n",
    "\n",
    "img_h = cv.hconcat([white_contents, gray_contents,\n",
    "                   gray_contents2, gray_contents3, black_contents])\n",
    "\n",
    "cv.imwrite(\".//horizontalCat.png\", img_h.astype('uint8'))\n"
   ]
  },
  {
   "cell_type": "code",
   "execution_count": 23,
   "metadata": {},
   "outputs": [
    {
     "name": "stdout",
     "output_type": "stream",
     "text": [
      "STD: 11.796647  |  MEAN: 203.926971\n",
      "STD: 9.905970  |  MEAN: 160.988647\n",
      "STD: 5.930073  |  MEAN: 119.647545\n",
      "STD: 6.935028  |  MEAN: 74.292587\n",
      "STD: 3.144824  |  MEAN: 32.350174\n"
     ]
    }
   ],
   "source": [
    "for e in sub_image_lst:\n",
    "    \n",
    "    print(\"STD: %f  |  MEAN: %f\" % ( np.std(e), np.mean(e) ) )"
   ]
  },
  {
   "cell_type": "code",
   "execution_count": 52,
   "metadata": {},
   "outputs": [
    {
     "data": {
      "text/plain": [
       "True"
      ]
     },
     "execution_count": 52,
     "metadata": {},
     "output_type": "execute_result"
    }
   ],
   "source": [
    "dunkelbilder = []\n",
    "\n",
    "counter = 1\n",
    "\n",
    "param = 'OpencvDunkelBild' + str(counter) + '.png'\n",
    "\n",
    "for e in range (1,10):\n",
    "\n",
    "    dunkelbilder.append(np.array(cv.imread(param)))\n",
    "    counter+1\n",
    "    pixel_mean = np.mean(dunkelbilder,axis=0)\n",
    "\n",
    "#print(pixel_mean)\n",
    "cv.imwrite('.//dunkelbildmean.png' , pixel_mean.astype('uint8'))\n"
   ]
  },
  {
   "cell_type": "code",
   "execution_count": 59,
   "metadata": {},
   "outputs": [
    {
     "name": "stdout",
     "output_type": "stream",
     "text": [
      "[[[0. 0. 0.]\n",
      "  [0. 0. 0.]\n",
      "  [0. 0. 0.]\n",
      "  ...\n",
      "  [0. 0. 0.]\n",
      "  [0. 0. 0.]\n",
      "  [0. 0. 0.]]\n",
      "\n",
      " [[0. 0. 0.]\n",
      "  [0. 0. 0.]\n",
      "  [0. 0. 0.]\n",
      "  ...\n",
      "  [0. 0. 0.]\n",
      "  [0. 0. 0.]\n",
      "  [0. 0. 0.]]\n",
      "\n",
      " [[0. 0. 0.]\n",
      "  [0. 0. 0.]\n",
      "  [0. 0. 0.]\n",
      "  ...\n",
      "  [0. 0. 0.]\n",
      "  [0. 0. 0.]\n",
      "  [0. 0. 0.]]\n",
      "\n",
      " ...\n",
      "\n",
      " [[0. 0. 0.]\n",
      "  [0. 0. 0.]\n",
      "  [0. 0. 0.]\n",
      "  ...\n",
      "  [0. 0. 0.]\n",
      "  [0. 0. 0.]\n",
      "  [0. 0. 0.]]\n",
      "\n",
      " [[0. 0. 0.]\n",
      "  [0. 0. 0.]\n",
      "  [0. 0. 0.]\n",
      "  ...\n",
      "  [0. 0. 0.]\n",
      "  [0. 0. 0.]\n",
      "  [0. 0. 0.]]\n",
      "\n",
      " [[0. 0. 0.]\n",
      "  [0. 0. 0.]\n",
      "  [0. 0. 0.]\n",
      "  ...\n",
      "  [0. 0. 0.]\n",
      "  [0. 0. 0.]\n",
      "  [0. 0. 0.]]]\n"
     ]
    },
    {
     "data": {
      "text/plain": [
       "True"
      ]
     },
     "execution_count": 59,
     "metadata": {},
     "output_type": "execute_result"
    }
   ],
   "source": [
    "input_black = np.array(cv.imread('dunkelbildmean.png'))\n",
    "input_black = input_black.astype('float32')\n",
    "\n",
    "our_black = np.array(cv.imread('OpencvDunkelBild1.png'))\n",
    "our_black = our_black.astype('float32')\n",
    "\n",
    "result = np.subtract(our_black, input_black)\n",
    "print(result)\n",
    "\n",
    "cv.imwrite('.//resultBlack.png', result.astype('uint8'))\n"
   ]
  },
  {
   "cell_type": "code",
   "execution_count": 60,
   "metadata": {},
   "outputs": [
    {
     "data": {
      "text/plain": [
       "True"
      ]
     },
     "execution_count": 60,
     "metadata": {},
     "output_type": "execute_result"
    }
   ],
   "source": [
    "weißbilder = []\n",
    "\n",
    "counter = 1\n",
    "\n",
    "param = 'Opencvweisbild' + str(counter) + '.png'\n",
    "\n",
    "for e in range(1, 10):\n",
    "\n",
    "    weißbilder.append(np.array(cv.imread(param)))\n",
    "    counter+1\n",
    "    weis_pixel_mean = np.mean(weißbilder, axis=0)\n",
    "\n",
    "#print(weis_pixel_mean)\n",
    "cv.imwrite('.//weisbildmean.png', weis_pixel_mean.astype('uint8'))\n"
   ]
  },
  {
   "cell_type": "code",
   "execution_count": 68,
   "metadata": {},
   "outputs": [
    {
     "data": {
      "text/plain": [
       "True"
      ]
     },
     "execution_count": 68,
     "metadata": {},
     "output_type": "execute_result"
    }
   ],
   "source": [
    "input_weis = np.array(cv.imread('weisbildmean.png'))\n",
    "input_weis = input_weis.astype('float32')\n",
    "\n",
    "our_weis = np.array(cv.imread('Opencvweisbild1.png'))\n",
    "our_weis = our_weis.astype('float32')\n",
    "\n",
    "\n",
    "sub_black_white = np.subtract(input_weis, our_black)\n",
    "cv.imwrite('.//sub_black_white.png', sub_black_white.astype('uint8'))\n",
    "\n",
    "\n",
    "meanwhite = np.divide(our_weis, np.mean(our_weis)) # normiert Mittelwert zu 1\n",
    "\n",
    "#print(meanwhite)\n",
    "cv.imwrite('.//meanwhite.png', meanwhite.astype('uint8'))\n",
    "\n",
    "result_black_white = sub_black_white/meanwhite\n",
    "\n",
    "#print(result_black_white)\n",
    "\n",
    "cv.imwrite('.//result_black_white.png', result_black_white.astype('uint8'))\n"
   ]
  },
  {
   "cell_type": "code",
   "execution_count": null,
   "metadata": {},
   "outputs": [],
   "source": []
  }
 ],
 "metadata": {
  "interpreter": {
   "hash": "7cc10ac5b22170fb0ee2a658c9961b206e99596b862a6f509f54c88f577ffb47"
  },
  "kernelspec": {
   "display_name": "Python 3.9.0 64-bit",
   "language": "python",
   "name": "python3"
  },
  "language_info": {
   "codemirror_mode": {
    "name": "ipython",
    "version": 3
   },
   "file_extension": ".py",
   "mimetype": "text/x-python",
   "name": "python",
   "nbconvert_exporter": "python",
   "pygments_lexer": "ipython3",
   "version": "3.9.0"
  },
  "orig_nbformat": 4
 },
 "nbformat": 4,
 "nbformat_minor": 2
}
