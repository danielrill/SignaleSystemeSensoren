{
 "cells": [
  {
   "cell_type": "code",
   "execution_count": 2,
   "metadata": {},
   "outputs": [],
   "source": [
    "import cv2 as cv\n",
    "import numpy as np\n"
   ]
  },
  {
   "cell_type": "code",
   "execution_count": 3,
   "metadata": {},
   "outputs": [
    {
     "data": {
      "text/plain": [
       "True"
      ]
     },
     "execution_count": 3,
     "metadata": {},
     "output_type": "execute_result"
    }
   ],
   "source": [
    "\n",
    "gray_img = np.array(cv.imread('Opencvgrauwertkeilneu.png'))\n",
    "gray_img = gray_img.astype('float32')\n",
    "\n",
    "white_contents = gray_img[50:430, 5:25]\n",
    "gray_contents = gray_img[50:430, 150:170]\n",
    "gray_contents2 = gray_img[50:430, 300:320]\n",
    "gray_contents3 = gray_img[50:430, 400:420]\n",
    "black_contents = gray_img[50:430, 600:620]\n",
    "\n",
    "\n",
    "white_contents = np.mean(white_contents)\n",
    "gray_contents = gray_img[50:430, 150:170]\n",
    "gray_contents2 = gray_img[50:430, 300:320]\n",
    "gray_contents3 = gray_img[50:430, 400:420]\n",
    "black_contents = gray_img[50:430, 600:620]\n",
    "\n",
    "sub_image_lst = [white_contents, gray_contents,\n",
    "                 gray_contents2, gray_contents3, black_contents]\n",
    "\n",
    "\n",
    "cv.imwrite(\".//whitecontents.png\", white_contents.astype('uint8'))\n",
    "cv.imwrite(\".//gray_contents.png\", gray_contents.astype('uint8'))\n",
    "cv.imwrite(\".//gray_contents2.png\", gray_contents2.astype('uint8'))\n",
    "cv.imwrite(\".//gray_contents3.png\", gray_contents3.astype('uint8'))\n",
    "cv.imwrite(\".//black_contents.png\", black_contents.astype('uint8'))\n",
    "\n",
    "\n",
    "\n"
   ]
  },
  {
   "cell_type": "code",
   "execution_count": 4,
   "metadata": {},
   "outputs": [
    {
     "data": {
      "text/plain": [
       "True"
      ]
     },
     "execution_count": 4,
     "metadata": {},
     "output_type": "execute_result"
    }
   ],
   "source": [
    "# concat pics horizontally\n",
    "\n",
    "img_h = cv.hconcat([white_contents, gray_contents,\n",
    "                   gray_contents2, gray_contents3, black_contents])\n",
    "\n",
    "cv.imwrite(\".//horizontalCat.png\", img_h.astype('uint8'))\n"
   ]
  },
  {
   "cell_type": "code",
   "execution_count": 5,
   "metadata": {},
   "outputs": [
    {
     "name": "stdout",
     "output_type": "stream",
     "text": [
      "STD: 2.421955  |  MEAN: 178.198822\n",
      "STD: 3.033627  |  MEAN: 125.501183\n",
      "STD: 4.473268  |  MEAN: 70.872238\n",
      "STD: 1.867090  |  MEAN: 24.398552\n",
      "STD: 0.000000  |  MEAN: 0.000000\n"
     ]
    }
   ],
   "source": [
    "for e in sub_image_lst:\n",
    "    \n",
    "    print(\"STD: %f  |  MEAN: %f\" % ( np.std(e), np.mean(e) ) )"
   ]
  },
  {
   "cell_type": "code",
   "execution_count": 6,
   "metadata": {},
   "outputs": [],
   "source": [
    "dunkelbilder = []\n",
    "\n",
    "counter = 1\n",
    "\n",
    "param = 'OpencvDunkelBild' + str(counter) + '.png'\n",
    "\n",
    "for e in range (1,10):\n",
    "\n",
    "    dunkelbilder.append(np.array(cv.imread(param)))\n",
    "    counter+1\n",
    "    pixel_mean = np.mean(dunkelbilder,axis=0)\n",
    "\n",
    "#print(pixel_mean)\n",
    "cv.imwrite('.//dunkelbildmean.png' , pixel_mean.astype('uint8'))\n",
    "\n",
    "\n",
    "for e in pixel_mean.flatten():\n",
    "    if e != 0:\n",
    "        print(e)\n",
    "\n",
    "# kein pixel != 0 !\n"
   ]
  },
  {
   "cell_type": "code",
   "execution_count": 7,
   "metadata": {},
   "outputs": [
    {
     "data": {
      "text/plain": [
       "True"
      ]
     },
     "execution_count": 7,
     "metadata": {},
     "output_type": "execute_result"
    }
   ],
   "source": [
    "input_black = np.array(cv.imread('dunkelbildmean.png'))\n",
    "input_black = input_black.astype('float32')\n",
    "\n",
    "our_black = np.array(cv.imread('OpencvDunkelBild1.png'))\n",
    "our_black = our_black.astype('float32')\n",
    "\n",
    "result = np.subtract(our_black, input_black)\n",
    "#print(result)\n",
    "\n",
    "cv.imwrite('.//resultBlack.png', result.astype('uint8'))\n"
   ]
  },
  {
   "cell_type": "code",
   "execution_count": 8,
   "metadata": {},
   "outputs": [
    {
     "data": {
      "text/plain": [
       "True"
      ]
     },
     "execution_count": 8,
     "metadata": {},
     "output_type": "execute_result"
    }
   ],
   "source": [
    "# neue Weisbilder aufnehmen\n",
    "weißbilder = []\n",
    "\n",
    "counter = 1\n",
    "\n",
    "param = 'Opencvweisbild' + str(counter) + '.png'\n",
    "\n",
    "for e in range(1, 10):\n",
    "\n",
    "    weißbilder.append(np.array(cv.imread(param)))\n",
    "    # e.astype float\n",
    "    # dunkelbild jeweils abziehen\n",
    "    counter+1\n",
    "    weis_pixel_mean = np.mean(weißbilder, axis=0)\n",
    "\n",
    "#print(weis_pixel_mean)\n",
    "cv.imwrite('.//weisbildmean.png', weis_pixel_mean.astype('uint8'))\n",
    "\n",
    "\n",
    "#for e in weis_pixel_mean.flatten():\n",
    "#    if e < 255:\n",
    "#        print(e)\n",
    "\n"
   ]
  },
  {
   "cell_type": "code",
   "execution_count": 9,
   "metadata": {},
   "outputs": [
    {
     "data": {
      "text/plain": [
       "True"
      ]
     },
     "execution_count": 9,
     "metadata": {},
     "output_type": "execute_result"
    }
   ],
   "source": [
    "# vom grquwertkeil abziehen\n",
    "\n",
    "input_weis = np.array(cv.imread('weisbildmean.png'))\n",
    "input_weis = input_weis.astype('float32')\n",
    "\n",
    "our_weis = np.array(cv.imread('Opencvweisbild1.png'))\n",
    "our_weis = our_weis.astype('float32')\n",
    "\n",
    "\n",
    "sub_black_white = np.subtract(input_weis, our_black)\n",
    "cv.imwrite('.//sub_black_white.png', sub_black_white.astype('uint8'))\n",
    "\n",
    "\n",
    "meanwhite = np.divide(our_weis, np.mean(our_weis)) # normiert Mittelwert zu 1\n",
    "\n",
    "#print(meanwhite)\n",
    "cv.imwrite('.//meanwhite.png', meanwhite.astype('uint8'))\n",
    "\n",
    "result_black_white = sub_black_white/meanwhite\n",
    "\n",
    "#print(result_black_white)\n",
    "\n",
    "cv.imwrite('.//result_black_white.png', result_black_white.astype('uint8'))\n"
   ]
  },
  {
   "cell_type": "code",
   "execution_count": 12,
   "metadata": {},
   "outputs": [],
   "source": [
    "\n",
    "\"\"\"for e in dunkelbilder:\n",
    "    for v in e.flatten():\n",
    "        if v > 5:\n",
    "            print(v)\n",
    "\"\"\"\n",
    "\n",
    "\"\"\"for e in result_black_white:\n",
    "    for v in e.flatten():\n",
    "        if v not in range(140, 256):\n",
    "            print(v)\n",
    "\"\"\"\n",
    "\n",
    "\n",
    "mean = meanwhite[:,:,1]\n",
    "weissbildkontrastmaximiert = cv.equalizeHist(mean.astype('uint8')) # weisbild kontrastmaximieren\n",
    "cv.imwrite(\".//weissbildkontrastmaximiert.png\", weissbildkontrastmaximiert)\n",
    "deadpixel = np.argwhere(meanwhite[:,:,1] < 5)"
   ]
  },
  {
   "cell_type": "code",
   "execution_count": 13,
   "metadata": {},
   "outputs": [
    {
     "data": {
      "text/plain": [
       "True"
      ]
     },
     "execution_count": 13,
     "metadata": {},
     "output_type": "execute_result"
    }
   ],
   "source": [
    "\n",
    "deadpixelbild = cv.cvtColor(gray_img, cv.COLOR_BGR2GRAY)\n",
    "for (x, y) in deadpixel:\n",
    "    deadpixelbild = cv.circle(img=deadpixelbild , center=(y, x), radius=1, color=(0, 0, 255))\n",
    "cv.imwrite(\".//deadpixelbild.png\", deadpixelbild)"
   ]
  },
  {
   "cell_type": "code",
   "execution_count": null,
   "metadata": {},
   "outputs": [],
   "source": [
    "meanblack = input_black[:,:,1]\n",
    "\n",
    "dunkelbildkontrastmaximiert = cv.equalizeHist(meanblack.astype('uint8'))\n",
    "\n",
    "stuckpixel = np.argwhere(dunkelbildkontrastmaximiert[:, :] == 255)\n",
    "stuckpixelbild = cv.cvtColor(gray_img, cv.COLOR_BGR2GRAY)\n"
   ]
  },
  {
   "cell_type": "code",
   "execution_count": null,
   "metadata": {},
   "outputs": [
    {
     "data": {
      "text/plain": [
       "True"
      ]
     },
     "execution_count": 12,
     "metadata": {},
     "output_type": "execute_result"
    }
   ],
   "source": [
    "for (x, y) in stuckpixel:\n",
    "    stuckpixelbild = cv.circle(img=stuckpixelbild, center=(y, x), radius=1, color=(255, 0, 0))\n",
    "\n",
    "cv.imwrite(\".//stuckpixelbild.png\", stuckpixelbild)"
   ]
  },
  {
   "cell_type": "code",
   "execution_count": 15,
   "metadata": {},
   "outputs": [
    {
     "data": {
      "text/plain": [
       "True"
      ]
     },
     "execution_count": 15,
     "metadata": {},
     "output_type": "execute_result"
    }
   ],
   "source": [
    "sub_gray = np.subtract(gray_img, meanwhite)\n",
    "cv.imwrite(\".//sub_gray.png\", sub_gray)"
   ]
  },
  {
   "cell_type": "code",
   "execution_count": 16,
   "metadata": {},
   "outputs": [
    {
     "name": "stdout",
     "output_type": "stream",
     "text": [
      "STD: 2.421955  |  MEAN: 178.198822\n",
      "STD: 3.033627  |  MEAN: 125.501183\n",
      "STD: 4.473268  |  MEAN: 70.872238\n",
      "STD: 1.867090  |  MEAN: 24.398552\n",
      "STD: 0.000000  |  MEAN: 0.000000\n"
     ]
    }
   ],
   "source": [
    "for e in sub_image_lst:\n",
    "    \n",
    "    print(\"STD: %f  |  MEAN: %f\" % ( np.std(e), np.mean(e) ) )\n",
    "    "
   ]
  },
  {
   "cell_type": "code",
   "execution_count": 17,
   "metadata": {},
   "outputs": [
    {
     "name": "stdout",
     "output_type": "stream",
     "text": [
      "STD: 2.419459  |  MEAN: 177.188248\n",
      "STD: 3.024846  |  MEAN: 124.491753\n",
      "STD: 4.457427  |  MEAN: 69.872787\n",
      "STD: 1.858596  |  MEAN: 23.404469\n",
      "STD: 0.010020  |  MEAN: -0.956870\n"
     ]
    }
   ],
   "source": [
    "\n",
    "white_contents_kor = sub_gray[50:430, 5:25]\n",
    "gray_contents_kor = sub_gray[50:430, 150:170]\n",
    "gray_contents2_kor = sub_gray[50:430, 300:320]\n",
    "gray_contents3_kor = sub_gray[50:430, 400:420]\n",
    "black_contents_kor = sub_gray[50:430, 600:620]\n",
    "\n",
    "sub_image_lst_kor = [white_contents_kor, gray_contents_kor,\n",
    "                 gray_contents2_kor, gray_contents3_kor, black_contents_kor]\n",
    "\n",
    "for e in sub_image_lst_kor:\n",
    "    \n",
    "    print(\"STD: %f  |  MEAN: %f\" % ( np.std(e), np.mean(e) ) )"
   ]
  },
  {
   "cell_type": "markdown",
   "metadata": {},
   "source": []
  }
 ],
 "metadata": {
  "interpreter": {
   "hash": "7cc10ac5b22170fb0ee2a658c9961b206e99596b862a6f509f54c88f577ffb47"
  },
  "kernelspec": {
   "display_name": "Python 3.9.0 64-bit",
   "language": "python",
   "name": "python3"
  },
  "language_info": {
   "codemirror_mode": {
    "name": "ipython",
    "version": 3
   },
   "file_extension": ".py",
   "mimetype": "text/x-python",
   "name": "python",
   "nbconvert_exporter": "python",
   "pygments_lexer": "ipython3",
   "version": "3.9.0"
  },
  "orig_nbformat": 4
 },
 "nbformat": 4,
 "nbformat_minor": 2
}
